{
 "cells": [
  {
   "cell_type": "code",
   "execution_count": null,
   "metadata": {},
   "outputs": [],
   "source": [
    "from pystac.extensions.eo import EOExtension as eo\n",
    "import pystac_client\n",
    "import planetary_computer\n",
    "from odc.stac import configure_rio, stac_load\n",
    "\n",
    "import dask.distributed\n",
    "import dask.utils\n",
    "import numpy as np\n",
    "import planetary_computer as pc\n",
    "import xarray as xr\n",
    "from IPython.display import display\n",
    "from pystac_client import Client\n",
    "\n",
    "from odc.stac import configure_rio, stac_load\n",
    "\n",
    "client = dask.distributed.Client()\n",
    "configure_rio(cloud_defaults=True, client=client)\n",
    "\n",
    "catalog = pystac_client.Client.open(\n",
    "    \"https://planetarycomputer.microsoft.com/api/stac/v1\",\n",
    "    modifier=planetary_computer.sign_inplace,\n",
    ")\n",
    "\n",
    "area_of_interest = {\n",
    "    \"type\": \"Polygon\",\n",
    "    \"coordinates\": [\n",
    "        [\n",
    "            [-148.56536865234375, 60.80072385643073],\n",
    "            [-147.44338989257812, 60.80072385643073],\n",
    "            [-147.44338989257812, 61.18363894915102],\n",
    "            [-148.56536865234375, 61.18363894915102],\n",
    "            [-148.56536865234375, 60.80072385643073],\n",
    "        ]\n",
    "    ],\n",
    "}\n",
    "\n",
    "time_of_interest = \"2019-06-01/2023-06-03\"\n",
    "search = catalog.search(\n",
    "    collections=[\"sentinel-2-l2a\"],\n",
    "    intersects=area_of_interest,\n",
    "    datetime=time_of_interest\n",
    ")\n",
    "\n",
    "query = catalog.search(\n",
    "    collections=[\"sentinel-2-l2a\"],\n",
    "    datetime=time_of_interest,\n",
    "    query={\"s2:mgrs_tile\": dict(eq=\"10SGJ\")},\n",
    ")\n",
    "items = list(query.items())\n",
    "\n",
    "# Check how many items were returned\n",
    "# items = search.item_collection()\n",
    "print(f\"Returned {len(items)} Items\")"
   ]
  },
  {
   "cell_type": "code",
   "execution_count": null,
   "metadata": {},
   "outputs": [],
   "source": [
    "resolution = 20\n",
    "SHRINK = 4\n",
    "if client.cluster.workers[0].memory_manager.memory_limit < dask.utils.parse_bytes(\"4G\"):\n",
    "    SHRINK = 8  # running on Binder with 2Gb RAM\n",
    "\n",
    "if SHRINK > 1:\n",
    "    resolution = resolution * SHRINK\n",
    "\n",
    "xx = stac_load(\n",
    "    items,\n",
    "    chunks={\"x\": 2048, \"y\": 2048},\n",
    "    patch_url=pc.sign,\n",
    "    resolution=resolution,\n",
    "    # force dtype and nodata\n",
    "    dtype=\"uint16\",\n",
    "    nodata=0,\n",
    ")\n",
    "\n",
    "print(f\"Bands: {','.join(list(xx.data_vars))}\")\n",
    "display(xx)"
   ]
  },
  {
   "cell_type": "code",
   "execution_count": null,
   "metadata": {},
   "outputs": [],
   "source": [
    "def to_float(xx):\n",
    "    _xx = xx.astype(\"float32\")\n",
    "    nodata = _xx.attrs.pop(\"nodata\", None)\n",
    "    if nodata is None:\n",
    "        return _xx\n",
    "    return _xx.where(xx != nodata)\n",
    "\n",
    "\n",
    "def colorize(xx, colormap):\n",
    "    return xr.DataArray(colormap[xx.data], coords=xx.coords, dims=(*xx.dims, \"band\"))"
   ]
  },
  {
   "cell_type": "code",
   "execution_count": null,
   "metadata": {},
   "outputs": [],
   "source": [
    "# like .astype(float32) but taking care of nodata->NaN mapping\n",
    "b05 = to_float(xx.B05)\n",
    "b04 = to_float(xx.B04)\n",
    "ndci = (b05 - b04) / (\n",
    "    b05 + b04\n",
    ")\n",
    "# < This is still a lazy Dask computation (no data loaded yet)\n",
    "\n",
    "# Get a time slice `load->compute->plot`\n",
    "_ = ndci.isel(time=335).compute().plot.imshow(size=7, aspect=1.2, interpolation=\"bicubic\")"
   ]
  },
  {
   "cell_type": "code",
   "execution_count": null,
   "metadata": {},
   "outputs": [],
   "source": [
    "ndci_comp = ndci.isel(time=0).compute()\n",
    "for i in range(1,len(ndci)):\n",
    "    a = ndci.isel(time=i).compute()\n",
    "    ndci_comp = xr.concat([ndci_comp,a],dim=\"time\")"
   ]
  },
  {
   "cell_type": "code",
   "execution_count": null,
   "metadata": {},
   "outputs": [],
   "source": [
    "# Cyanobacteria Chlorophyll-a NDCI L1C https://custom-scripts.sentinel-hub.com/sentinel-2/cyanobacteria_chla_ndci_l1c/\n",
    "chl = 826.57*(ndci**3) - 176.43*(ndci**2) + 19*(ndci) + 4.071\n",
    "_ = chl.isel(time=1).compute().plot.imshow(size=7, aspect=1.2, interpolation=\"bicubic\")"
   ]
  },
  {
   "cell_type": "code",
   "execution_count": null,
   "metadata": {},
   "outputs": [],
   "source": [
    "#Floating plastic : https://www.nature.com/articles/s41598-020-62298-z#Sec10\n",
    "b06 = to_float(xx.B06)\n",
    "b08 = to_float(xx.B08)\n",
    "b11 = to_float(xx.B11)\n",
    "rp = b06 + (b11-b06)*1.87\n",
    "fdi = b08 - rp\n",
    "_ = fdi.isel(time=1).compute().plot.imshow(size=7, aspect=1.2, interpolation=\"bicubic\")"
   ]
  }
 ],
 "metadata": {
  "language_info": {
   "name": "python"
  }
 },
 "nbformat": 4,
 "nbformat_minor": 2
}
